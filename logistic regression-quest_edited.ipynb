{
 "cells": [
  {
   "cell_type": "markdown",
   "metadata": {},
   "source": [
    "# Library"
   ]
  },
  {
   "cell_type": "code",
   "execution_count": 1,
   "metadata": {},
   "outputs": [],
   "source": [
    "import torch\n",
    "import numpy as np\n",
    "from matplotlib import pyplot as plt\n",
    "\n",
    "import torchvision.utils as utils\n",
    "import torchvision.datasets as datasets\n",
    "import torchvision.transforms as transforms"
   ]
  },
  {
   "cell_type": "markdown",
   "metadata": {},
   "source": [
    "# Set torch basic"
   ]
  },
  {
   "cell_type": "code",
   "execution_count": 2,
   "metadata": {},
   "outputs": [],
   "source": [
    "# CUDA Check\n",
    "if torch.cuda.is_available():\n",
    "    device = torch.device(\"cuda\")\n",
    "else:\n",
    "    device = torch.device(\"cpu\")\n",
    "\n",
    "# Set dtype\n",
    "dtype = torch.double"
   ]
  },
  {
   "cell_type": "markdown",
   "metadata": {},
   "source": [
    "# Load the data"
   ]
  },
  {
   "cell_type": "code",
   "execution_count": 3,
   "metadata": {},
   "outputs": [
    {
     "name": "stdout",
     "output_type": "stream",
     "text": [
      "Dataset MNIST\n",
      "    Number of datapoints: 60000\n",
      "    Root location: data/\n",
      "    Split: Train\n",
      "Dataset MNIST\n",
      "    Number of datapoints: 10000\n",
      "    Root location: data/\n",
      "    Split: Test\n"
     ]
    }
   ],
   "source": [
    "mnist_train = datasets.MNIST(\n",
    "    root='data/',\n",
    "    train=True,\n",
    "    download=True)\n",
    "\n",
    "mnist_test = datasets.MNIST(\n",
    "    root='data/',\n",
    "    train=False,\n",
    "    download=True)\n",
    "\n",
    "\n",
    "print(mnist_train)\n",
    "print(mnist_test)"
   ]
  },
  {
   "cell_type": "markdown",
   "metadata": {},
   "source": [
    "# Analyze MNIST data"
   ]
  },
  {
   "cell_type": "code",
   "execution_count": 6,
   "metadata": {},
   "outputs": [
    {
     "name": "stdout",
     "output_type": "stream",
     "text": [
      "Train data shape :  torch.Size([60000, 28, 28])\n",
      "Train label shape :  torch.Size([60000])\n",
      "Test data shape :  torch.Size([10000, 28, 28])\n",
      "Test label shape :  torch.Size([10000])\n"
     ]
    },
    {
     "data": {
      "image/png": "[encoded data removed]",
      "text/plain": [
       "<Figure size 432x288 with 1 Axes>"
      ]
     },
     "metadata": {
      "needs_background": "light"
     },
     "output_type": "display_data"
    },
    {
     "name": "stdout",
     "output_type": "stream",
     "text": [
      "8's image data\n",
      "\n",
      "tensor([[  0,   0,   0,   0,   0,   0,   0,   0,   0,   0,   0,   0,   0,   0,\n",
      "           0,   0,   0,   0,   0,   0,   0,   0,   0,   0,   0,   0,   0,   0],\n",
      "        [  0,   0,   0,   0,   0,   0,   0,   0,   0,   0,   0,   0,   0,   0,\n",
      "           0,   0,   0,   0,   0,   0,   0,   0,   0,   0,   0,   0,   0,   0],\n",
      "        [  0,   0,   0,   0,   0,   0,   0,   0,   0,   0,   0,   0,   0,   0,\n",
      "           0,   0,   0,   0,   0,   0,   0,   0,   0,   0,   0,   0,   0,   0],\n",
      "        [  0,   0,   0,   0,   0,   0,   0,   0,   0,   0,   0,   0,   0,   0,\n",
      "           0,   0,   0,   0,   0,   0,   0,   0,   0,   0,   0,   0,   0,   0],\n",
      "        [  0,   0,   0,   0,   0,   0,   0,   0,   0,   0,   0,   0,   0,   0,\n",
      "           0,   0,   0,   0,   0,   0,   0,   0,   0,   0,   0,   0,   0,   0],\n",
      "        [  0,   0,   0,   0,   0,   0,   0,   0,   0,   0,   0,   0,   0,   0,\n",
      "           0, 184, 253, 204,  83,   0,   0,   0,   0,   0,   0,   0,   0,   0],\n",
      "        [  0,   0,   0,   0,   0,   0,   0,   0,   0,   0,   0,   0,   0,   6,\n",
      "         177, 253, 252, 252, 206,  23,   0,   0,   0,   0,   0,   0,   0,   0],\n",
      "        [  0,   0,   0,   0,   0,   0,   0,   0,   0,   0,   0,   0,  60, 172,\n",
      "         252, 253, 252, 252, 252,  53,   0,   0,   0,   0,   0,   0,   0,   0],\n",
      "        [  0,   0,   0,   0,   0,   0,   0,   0,   0,   0,   0,   0, 160, 252,\n",
      "         252, 215,  46, 230, 252,  53,   0,   0,   0,   0,   0,   0,   0,   0],\n",
      "        [  0,   0,   0,   0,   0,   0,   0,   0,   0,   0,   0,  68, 233, 252,\n",
      "         217,  28,   0, 226, 231,  39,   0,   0,   0,   0,   0,   0,   0,   0],\n",
      "        [  0,   0,   0,   0,   0,   0,   0,   0,   0,   0,   0, 173, 252, 242,\n",
      "          31,   0,  80, 245, 172,   0,   0,   0,   0,   0,   0,   0,   0,   0],\n",
      "        [  0,   0,   0,   0,   0,   0,   0,   0,   0,   0,   0, 173, 252, 147,\n",
      "           0,  20, 200, 252, 172,   0,   0,   0,   0,   0,   0,   0,   0,   0],\n",
      "        [  0,   0,   0,   0,   0,   0,   0,   0,   0,   0,   0, 173, 252, 106,\n",
      "           0, 121, 252, 242,  84,   0,   0,   0,   0,   0,   0,   0,   0,   0],\n",
      "        [  0,   0,   0,   0,   0,   0,   0,   0,   0,   0,   0, 173, 252, 106,\n",
      "           8, 197, 252,  82,   0,   0,   0,   0,   0,   0,   0,   0,   0,   0],\n",
      "        [  0,   0,   0,   0,   0,   0,   0,   0,   0,   0,   0, 103, 252, 183,\n",
      "         196, 253, 195,  12,   0,   0,   0,   0,   0,   0,   0,   0,   0,   0],\n",
      "        [  0,   0,   0,   0,   0,   0,   0,   0,   0,   0,   0,  22, 209, 253,\n",
      "         253, 255,  83,   0,   0,   0,   0,   0,   0,   0,   0,   0,   0,   0],\n",
      "        [  0,   0,   0,   0,   0,   0,   0,   0,   0,   0,   0,   0, 160, 252,\n",
      "         252, 202,   7,   0,   0,   0,   0,   0,   0,   0,   0,   0,   0,   0],\n",
      "        [  0,   0,   0,   0,   0,   0,   0,   0,   0,   0,   0,   0, 160, 252,\n",
      "         252, 178,   5,   0,   0,   0,   0,   0,   0,   0,   0,   0,   0,   0],\n",
      "        [  0,   0,   0,   0,   0,   0,   0,   0,   0,   0,   0,  77, 238, 252,\n",
      "         252, 253, 126,   0,   0,   0,   0,   0,   0,   0,   0,   0,   0,   0],\n",
      "        [  0,   0,   0,   0,   0,   0,   0,   0,   0,   0,  43, 236, 252, 241,\n",
      "          53, 253, 230,  21,   0,   0,   0,   0,   0,   0,   0,   0,   0,   0],\n",
      "        [  0,   0,   0,   0,   0,   0,   0,   0,   0,   0,  54, 252, 246, 121,\n",
      "          54, 253, 252,  26,   0,   0,   0,   0,   0,   0,   0,   0,   0,   0],\n",
      "        [  0,   0,   0,   0,   0,   0,   0,   0,   0,   0,  54, 252, 154,  14,\n",
      "         252, 253, 252,  26,   0,   0,   0,   0,   0,   0,   0,   0,   0,   0],\n",
      "        [  0,   0,   0,   0,   0,   0,   0,   0,   0,   0,  54, 252, 242, 165,\n",
      "         252, 253, 170,  10,   0,   0,   0,   0,   0,   0,   0,   0,   0,   0],\n",
      "        [  0,   0,   0,   0,   0,   0,   0,   0,   0,   0,  23, 206, 252, 252,\n",
      "         252, 176,   6,   0,   0,   0,   0,   0,   0,   0,   0,   0,   0,   0],\n",
      "        [  0,   0,   0,   0,   0,   0,   0,   0,   0,   0,   0,  82, 203, 174,\n",
      "         119,   0,   0,   0,   0,   0,   0,   0,   0,   0,   0,   0,   0,   0],\n",
      "        [  0,   0,   0,   0,   0,   0,   0,   0,   0,   0,   0,   0,   0,   0,\n",
      "           0,   0,   0,   0,   0,   0,   0,   0,   0,   0,   0,   0,   0,   0],\n",
      "        [  0,   0,   0,   0,   0,   0,   0,   0,   0,   0,   0,   0,   0,   0,\n",
      "           0,   0,   0,   0,   0,   0,   0,   0,   0,   0,   0,   0,   0,   0],\n",
      "        [  0,   0,   0,   0,   0,   0,   0,   0,   0,   0,   0,   0,   0,   0,\n",
      "           0,   0,   0,   0,   0,   0,   0,   0,   0,   0,   0,   0,   0,   0]],\n",
      "       dtype=torch.uint8)\n"
     ]
    }
   ],
   "source": [
    "# Rename tensors\n",
    "X_train = mnist_train.data # images\n",
    "y_train = mnist_train.targets # labels\n",
    "X_test = mnist_test.data\n",
    "y_test = mnist_test.targets\n",
    "\n",
    "# Check the shape of data and labels\n",
    "print(\"Train data shape : \", X_train.shape)\n",
    "print(\"Train label shape : \", y_train.shape)\n",
    "print(\"Test data shape : \", X_test.shape)\n",
    "print(\"Test label shape : \", y_test.shape)\n",
    "\n",
    "# Show a image example\n",
    "# Generate random number\n",
    "idx = np.random.randint(0, X_train.size(0))\n",
    "\n",
    "# Show the image with label as title\n",
    "# Warning? : imshow uses numpy object basically\n",
    "plt.figure()\n",
    "plt.imshow(X_train[idx], cmap=\"gray\")\n",
    "plt.title(str(y_train[idx].numpy()))\n",
    "plt.show()\n",
    "\n",
    "# Show image with computer's perspective\n",
    "print(str(y_train[idx].numpy()) + \"'s image data\\n\")\n",
    "print(X_train[idx])\n",
    "\n",
    "# Convert data to double cuda tensor\n",
    "X_train = X_train.to(dtype=dtype, device=device)\n",
    "y_train = y_train.to(device=device)\n",
    "X_test = X_test.to(dtype=dtype, device=device)\n",
    "y_test = y_test.to(device=device)"
   ]
  },
  {
   "cell_type": "markdown",
   "metadata": {},
   "source": [
    "# Data vectorization and normalization"
   ]
  },
  {
   "cell_type": "code",
   "execution_count": 8,
   "metadata": {},
   "outputs": [
    {
     "name": "stdout",
     "output_type": "stream",
     "text": [
      "Data shape :  torch.Size([784])\n",
      "torch.Size([60000, 784])\n",
      "torch.Size([10000, 784])\n",
      "42936th data in X_train\n",
      " tensor([0.0000, 0.0000, 0.0000, 0.0000, 0.0000, 0.0000, 0.0000, 0.0000, 0.0000,\n",
      "        0.0000, 0.0000, 0.0000, 0.0000, 0.0000, 0.0000, 0.0000, 0.0000, 0.0000,\n",
      "        0.0000, 0.0000, 0.0000, 0.0000, 0.0000, 0.0000, 0.0000, 0.0000, 0.0000,\n",
      "        0.0000, 0.0000, 0.0000, 0.0000, 0.0000, 0.0000, 0.0000, 0.0000, 0.0000,\n",
      "        0.0000, 0.0000, 0.0000, 0.0000, 0.0000, 0.0000, 0.0000, 0.0000, 0.0000,\n",
      "        0.0000, 0.0000, 0.0000, 0.0000, 0.0000, 0.0000, 0.0000, 0.0000, 0.0000,\n",
      "        0.0000, 0.0000, 0.0000, 0.0000, 0.0000, 0.0000, 0.0000, 0.0000, 0.0000,\n",
      "        0.0000, 0.0000, 0.0000, 0.0000, 0.0000, 0.0000, 0.0000, 0.0000, 0.0000,\n",
      "        0.0000, 0.0000, 0.0000, 0.0000, 0.0000, 0.0000, 0.0000, 0.0000, 0.0000,\n",
      "        0.0000, 0.0000, 0.0000, 0.0000, 0.0000, 0.0000, 0.0000, 0.0000, 0.0000,\n",
      "        0.0000, 0.0000, 0.0000, 0.0000, 0.0000, 0.0000, 0.0000, 0.0000, 0.0000,\n",
      "        0.0000, 0.0000, 0.0000, 0.0000, 0.0000, 0.0000, 0.0000, 0.0000, 0.0000,\n",
      "        0.0000, 0.0000, 0.0000, 0.0000, 0.0000, 0.0000, 0.0000, 0.0000, 0.0000,\n",
      "        0.0000, 0.0000, 0.0000, 0.0000, 0.0000, 0.0000, 0.0000, 0.0000, 0.0000,\n",
      "        0.0000, 0.0000, 0.5843, 0.9922, 0.7216, 0.0000, 0.0000, 0.0000, 0.0000,\n",
      "        0.0000, 0.0000, 0.0000, 0.0000, 0.0000, 0.0000, 0.0000, 0.0000, 0.0000,\n",
      "        0.0000, 0.0000, 0.0000, 0.0000, 0.0000, 0.0000, 0.0000, 0.0000, 0.0000,\n",
      "        0.0000, 0.0000, 0.5765, 0.9922, 0.9882, 0.6353, 0.0000, 0.0000, 0.0000,\n",
      "        0.0000, 0.0000, 0.0000, 0.0000, 0.0000, 0.0000, 0.0000, 0.0000, 0.0000,\n",
      "        0.0000, 0.0000, 0.0000, 0.0000, 0.0000, 0.0000, 0.0000, 0.0000, 0.0000,\n",
      "        0.0000, 0.0000, 0.1020, 0.9255, 0.9922, 0.8549, 0.0745, 0.0000, 0.0000,\n",
      "        0.0000, 0.0000, 0.0000, 0.0000, 0.0000, 0.0000, 0.0000, 0.0000, 0.0000,\n",
      "        0.0000, 0.0000, 0.0000, 0.0000, 0.0000, 0.0000, 0.0000, 0.0000, 0.0000,\n",
      "        0.0000, 0.0000, 0.1020, 0.7961, 0.9882, 0.9608, 0.3098, 0.0000, 0.0000,\n",
      "        0.0000, 0.2000, 0.3647, 0.3647, 0.0667, 0.0000, 0.0000, 0.0000, 0.0000,\n",
      "        0.0000, 0.0000, 0.0000, 0.0000, 0.0000, 0.0000, 0.0000, 0.0000, 0.0000,\n",
      "        0.0000, 0.0000, 0.0000, 0.4784, 0.9882, 0.9882, 0.2863, 0.0000, 0.0000,\n",
      "        0.3725, 0.8627, 0.9529, 0.9882, 0.9882, 0.5882, 0.0000, 0.0000, 0.0000,\n",
      "        0.0000, 0.0000, 0.0000, 0.0000, 0.0000, 0.0000, 0.0000, 0.0000, 0.0000,\n",
      "        0.0000, 0.0000, 0.0000, 0.4314, 0.9922, 0.9922, 0.2941, 0.0118, 0.4627,\n",
      "        0.9922, 0.9922, 0.9922, 0.9059, 0.9020, 0.7804, 0.2902, 0.0000, 0.0000,\n",
      "        0.0000, 0.0000, 0.0000, 0.0000, 0.0000, 0.0000, 0.0000, 0.0000, 0.0000,\n",
      "        0.0000, 0.0000, 0.0000, 0.1412, 0.8588, 0.9882, 0.6745, 0.2000, 0.4627,\n",
      "        0.9882, 0.8549, 0.6431, 0.3608, 0.0000, 0.0000, 0.0000, 0.0000, 0.0000,\n",
      "        0.0000, 0.0000, 0.0000, 0.0000, 0.0000, 0.0000, 0.0000, 0.0000, 0.0000,\n",
      "        0.0000, 0.0000, 0.0000, 0.0000, 0.8706, 0.9882, 0.7922, 0.4392, 0.9647,\n",
      "        0.8431, 0.6353, 0.0745, 0.0000, 0.0000, 0.0000, 0.0000, 0.0000, 0.0000,\n",
      "        0.0000, 0.0000, 0.0000, 0.0000, 0.0000, 0.0000, 0.0000, 0.0000, 0.0000,\n",
      "        0.0000, 0.0000, 0.0000, 0.0000, 0.3725, 0.9922, 0.9216, 0.2510, 0.3137,\n",
      "        0.2196, 0.0824, 0.0000, 0.0000, 0.0000, 0.0000, 0.0000, 0.0000, 0.0000,\n",
      "        0.0000, 0.0000, 0.0000, 0.0000, 0.0000, 0.0000, 0.0000, 0.0000, 0.0000,\n",
      "        0.0000, 0.0000, 0.0000, 0.0000, 0.0000, 0.8627, 0.9922, 0.4000, 0.0000,\n",
      "        0.0000, 0.0000, 0.0000, 0.0000, 0.0000, 0.0000, 0.0000, 0.0000, 0.0000,\n",
      "        0.0000, 0.0000, 0.0000, 0.0000, 0.0000, 0.0000, 0.0000, 0.0000, 0.0000,\n",
      "        0.0000, 0.0000, 0.0000, 0.0000, 0.0000, 0.0000, 0.9059, 1.0000, 0.4039,\n",
      "        0.0000, 0.0000, 0.0000, 0.0000, 0.0000, 0.0000, 0.0000, 0.0000, 0.0000,\n",
      "        0.0000, 0.0000, 0.0000, 0.0000, 0.0000, 0.0000, 0.0000, 0.0000, 0.0000,\n",
      "        0.0000, 0.0000, 0.0000, 0.0000, 0.0000, 0.0000, 0.0000, 0.6157, 0.9922,\n",
      "        0.9255, 0.2549, 0.0000, 0.0000, 0.0000, 0.0000, 0.0000, 0.0000, 0.0000,\n",
      "        0.0000, 0.0000, 0.0000, 0.0000, 0.0000, 0.0000, 0.0000, 0.0000, 0.0000,\n",
      "        0.0000, 0.0000, 0.0000, 0.0000, 0.0000, 0.0000, 0.0000, 0.0000, 0.1255,\n",
      "        0.9922, 0.9882, 0.9176, 0.2549, 0.0000, 0.0000, 0.0000, 0.0000, 0.0000,\n",
      "        0.0000, 0.0000, 0.0000, 0.0000, 0.0000, 0.0000, 0.0000, 0.0000, 0.0000,\n",
      "        0.0000, 0.0000, 0.0000, 0.0000, 0.0000, 0.0000, 0.0000, 0.0000, 0.0000,\n",
      "        0.0000, 0.4588, 0.9882, 0.9882, 0.9255, 0.2392, 0.0000, 0.0000, 0.0000,\n",
      "        0.0000, 0.0000, 0.0000, 0.0000, 0.0000, 0.0000, 0.0000, 0.0000, 0.0000,\n",
      "        0.0000, 0.0000, 0.0000, 0.0000, 0.0000, 0.0000, 0.0431, 0.3725, 0.0000,\n",
      "        0.0000, 0.0000, 0.0118, 0.4588, 0.9882, 0.9882, 0.9490, 0.4157, 0.0000,\n",
      "        0.0000, 0.0000, 0.0000, 0.0000, 0.0000, 0.0000, 0.0000, 0.0000, 0.0000,\n",
      "        0.0000, 0.0000, 0.0000, 0.0000, 0.0000, 0.0000, 0.0000, 0.0941, 0.8118,\n",
      "        0.0000, 0.0000, 0.0000, 0.0000, 0.0196, 0.7490, 0.9922, 0.9922, 0.4549,\n",
      "        0.0000, 0.0000, 0.0000, 0.0000, 0.0000, 0.0000, 0.0000, 0.0000, 0.0000,\n",
      "        0.0000, 0.0000, 0.0000, 0.0000, 0.0000, 0.0000, 0.0000, 0.0000, 0.0941,\n",
      "        0.9255, 0.1725, 0.0000, 0.0000, 0.2235, 0.6980, 0.9882, 0.9882, 0.9882,\n",
      "        0.3725, 0.0000, 0.0000, 0.0000, 0.0000, 0.0000, 0.0000, 0.0000, 0.0000,\n",
      "        0.0000, 0.0000, 0.0000, 0.0000, 0.0000, 0.0000, 0.0000, 0.0000, 0.0000,\n",
      "        0.0941, 0.9882, 0.4667, 0.2745, 0.6824, 0.9922, 0.9882, 0.9882, 0.7647,\n",
      "        0.3098, 0.0000, 0.0000, 0.0000, 0.0000, 0.0000, 0.0000, 0.0000, 0.0000,\n",
      "        0.0000, 0.0000, 0.0000, 0.0000, 0.0000, 0.0000, 0.0000, 0.0000, 0.0000,\n",
      "        0.0000, 0.0588, 0.8588, 0.9882, 0.9882, 0.9882, 0.9922, 0.7569, 0.3020,\n",
      "        0.0353, 0.0000, 0.0000, 0.0000, 0.0000, 0.0000, 0.0000, 0.0000, 0.0000,\n",
      "        0.0000, 0.0000, 0.0000, 0.0000, 0.0000, 0.0000, 0.0000, 0.0000, 0.0000,\n",
      "        0.0000, 0.0000, 0.0000, 0.1412, 0.8667, 0.8235, 0.5373, 0.2941, 0.0314,\n",
      "        0.0000, 0.0000, 0.0000, 0.0000, 0.0000, 0.0000, 0.0000, 0.0000, 0.0000,\n",
      "        0.0000, 0.0000, 0.0000, 0.0000, 0.0000, 0.0000, 0.0000, 0.0000, 0.0000,\n",
      "        0.0000, 0.0000, 0.0000, 0.0000, 0.0000, 0.0000, 0.0000, 0.0000, 0.0000,\n",
      "        0.0000, 0.0000, 0.0000, 0.0000, 0.0000, 0.0000, 0.0000, 0.0000, 0.0000,\n",
      "        0.0000, 0.0000, 0.0000, 0.0000, 0.0000, 0.0000, 0.0000, 0.0000, 0.0000,\n",
      "        0.0000, 0.0000, 0.0000, 0.0000, 0.0000, 0.0000, 0.0000, 0.0000, 0.0000,\n",
      "        0.0000, 0.0000, 0.0000, 0.0000, 0.0000, 0.0000, 0.0000, 0.0000, 0.0000,\n",
      "        0.0000, 0.0000, 0.0000, 0.0000, 0.0000, 0.0000, 0.0000, 0.0000, 0.0000,\n",
      "        0.0000, 0.0000, 0.0000, 0.0000, 0.0000, 0.0000, 0.0000, 0.0000, 0.0000,\n",
      "        0.0000, 0.0000, 0.0000, 0.0000, 0.0000, 0.0000, 0.0000, 0.0000, 0.0000,\n",
      "        0.0000, 0.0000, 0.0000, 0.0000, 0.0000, 0.0000, 0.0000, 0.0000, 0.0000,\n",
      "        0.0000, 0.0000, 0.0000, 0.0000, 0.0000, 0.0000, 0.0000, 0.0000, 0.0000,\n",
      "        0.0000, 0.0000, 0.0000, 0.0000, 0.0000, 0.0000, 0.0000, 0.0000, 0.0000,\n",
      "        0.0000, 0.0000, 0.0000, 0.0000, 0.0000, 0.0000, 0.0000, 0.0000, 0.0000,\n",
      "        0.0000], device='cuda:0', dtype=torch.float64)\n"
     ]
    }
   ],
   "source": [
    "# DO NOT EXECUTE THIS CELL REPEATEDLY! UNEXPECTED RESULTS CAN BE SHOWN!\n",
    "# Calculate vector size\n",
    "def calculate_vector_size(data_shape): # (28, 28) -> 784\n",
    "    # Calculate vector size from data shape\n",
    "    \n",
    "    # Arguments\n",
    "    # data_size : shape of the data\n",
    "    \n",
    "    size = 1\n",
    "    for s in data_shape:\n",
    "        size *= s\n",
    "    \n",
    "    return size\n",
    "\n",
    "# Normalize with minimax normalizer\n",
    "def normalize(data, min_value, max_value):\n",
    "    # Minimax normalizer\n",
    "    \n",
    "    # Arguments\n",
    "    # data : Image data\n",
    "    # min_value : The lowest value in the data\n",
    "    # max_value : The largest value in the data\n",
    "    \n",
    "    normalized_data = (data - min_value) / (max_value - min_value)\n",
    "    \n",
    "    return normalized_data\n",
    "\n",
    "# Check data shape\n",
    "shape = X_train.shape[1:] # 0 index is number of data\n",
    "print(\"Data shape : \", shape)\n",
    "\n",
    "# Vectorize the data\n",
    "X_train = X_train.view(-1, calculate_vector_size(shape)) # Vectorize the X_train\n",
    "X_test = X_test.view(-1, calculate_vector_size(shape))# Vectorize the X_test\n",
    "print(X_train.size())\n",
    "print(X_test.size())\n",
    "\n",
    "# Normalized the data\n",
    "# Each pixel has 0 ~ 255 value for their intensivity\n",
    "X_train = normalize(X_train, 0, 255) # Normalize the X_train data\n",
    "X_test = normalize(X_test, 0, 255) # Normalize the X_test data\n",
    "\n",
    "# Check changes on data\n",
    "idx = np.random.randint(0, y_train.shape[0])\n",
    "print(str(idx + 1) + \"th data in X_train\\n\", X_train[idx])"
   ]
  },
  {
   "cell_type": "markdown",
   "metadata": {},
   "source": [
    "# How to make one-hot vector"
   ]
  },
  {
   "cell_type": "code",
   "execution_count": 11,
   "metadata": {
    "scrolled": true
   },
   "outputs": [
    {
     "name": "stdout",
     "output_type": "stream",
     "text": [
      "10 x 10 identity matrix \n",
      " tensor([[1., 0., 0., 0., 0., 0., 0., 0., 0., 0.],\n",
      "        [0., 1., 0., 0., 0., 0., 0., 0., 0., 0.],\n",
      "        [0., 0., 1., 0., 0., 0., 0., 0., 0., 0.],\n",
      "        [0., 0., 0., 1., 0., 0., 0., 0., 0., 0.],\n",
      "        [0., 0., 0., 0., 1., 0., 0., 0., 0., 0.],\n",
      "        [0., 0., 0., 0., 0., 1., 0., 0., 0., 0.],\n",
      "        [0., 0., 0., 0., 0., 0., 1., 0., 0., 0.],\n",
      "        [0., 0., 0., 0., 0., 0., 0., 1., 0., 0.],\n",
      "        [0., 0., 0., 0., 0., 0., 0., 0., 1., 0.],\n",
      "        [0., 0., 0., 0., 0., 0., 0., 0., 0., 1.]])\n",
      "Sparse label \n",
      " tensor([1, 3, 5, 7, 9])\n",
      "One-hot vector \n",
      " tensor([[0., 1., 0., 0., 0., 0., 0., 0., 0., 0.],\n",
      "        [0., 0., 0., 1., 0., 0., 0., 0., 0., 0.],\n",
      "        [0., 0., 0., 0., 0., 1., 0., 0., 0., 0.],\n",
      "        [0., 0., 0., 0., 0., 0., 0., 1., 0., 0.],\n",
      "        [0., 0., 0., 0., 0., 0., 0., 0., 0., 1.]])\n",
      "One-hot vector (Simple version) \n",
      " tensor([[0, 1, 0, 0, 0, 0, 0, 0, 0, 0],\n",
      "        [0, 0, 0, 1, 0, 0, 0, 0, 0, 0],\n",
      "        [0, 0, 0, 0, 0, 1, 0, 0, 0, 0],\n",
      "        [0, 0, 0, 0, 0, 0, 0, 1, 0, 0],\n",
      "        [0, 0, 0, 0, 0, 0, 0, 0, 0, 1]])\n",
      "train label one hot vector's shape :  torch.Size([60000, 10])\n",
      "train one hot vector example, 30025th label\n",
      "tensor([0., 0., 0., 0., 0., 0., 1., 0., 0., 0.], device='cuda:0',\n",
      "       dtype=torch.float64)\n",
      "test label one hot vector's shape :  torch.Size([10000, 10])\n",
      "test one hot vector example, 1122th label\n",
      "tensor([0., 0., 0., 0., 0., 0., 0., 1., 0., 0.], device='cuda:0',\n",
      "       dtype=torch.float64)\n"
     ]
    }
   ],
   "source": [
    "# Generate 10 x 10 identity matrix\n",
    "print(\"10 x 10 identity matrix \\n\", torch.eye(10))\n",
    "\n",
    "# Sparse label\n",
    "sparse_label = torch.tensor([1, 3, 5, 7, 9])\n",
    "print(\"Sparse label \\n\", sparse_label)\n",
    "\n",
    "# Sparse label -> one-hot vector\n",
    "print(\"One-hot vector \\n\", torch.eye(10)[sparse_label]) # Output is double tensor\n",
    "\n",
    "# Simple method\n",
    "print(\"One-hot vector (Simple version) \\n\", torch.nn.functional.one_hot(sparse_label)) # Output is long tensor\n",
    "\n",
    "# Change mnist dataset's label to one hot vector without torch.nn.functional and set the dtype and device\n",
    "\n",
    "y_train_one_hot = torch.eye(10)[y_train].to(dtype=dtype, device=device)\n",
    "y_test_one_hot = torch.eye(10)[y_test].to(dtype=dtype, device=device)\n",
    "\n",
    "# Check the changes\n",
    "print(\"train label one hot vector's shape : \", y_train_one_hot.shape)\n",
    "idx = np.random.randint(0, y_train.shape[0])\n",
    "print(\"train one hot vector example, \" + str(idx) + \"th label\")\n",
    "print(y_train_one_hot[idx])\n",
    "\n",
    "print(\"test label one hot vector's shape : \", y_test_one_hot.shape)\n",
    "idx = np.random.randint(0, y_test.shape[0])\n",
    "print(\"test one hot vector example, \" + str(idx) + \"th label\")\n",
    "print(y_test_one_hot[idx])\n"
   ]
  },
  {
   "cell_type": "markdown",
   "metadata": {},
   "source": [
    "# Set hyperparameters"
   ]
  },
  {
   "cell_type": "code",
   "execution_count": 12,
   "metadata": {},
   "outputs": [],
   "source": [
    "learning_rate = 0.3\n",
    "training_epochs = 100\n",
    "display_step = 10\n",
    "\n",
    "# Data dimension\n",
    "D_in =  calculate_vector_size(shape) # Data input's dimension\n",
    "D_out = 10 # Data output's dimemsion - One-hot vector"
   ]
  },
  {
   "cell_type": "markdown",
   "metadata": {},
   "source": [
    "# Construct the model\n",
    "## Cross Entropy Loss"
   ]
  },
  {
   "cell_type": "code",
   "execution_count": 13,
   "metadata": {},
   "outputs": [],
   "source": [
    "# Construct the model\n",
    "class LogisticModel(torch.nn.Module):\n",
    "    def __init__(self, D_in, D_out):\n",
    "        super(LogisticModel, self).__init__()\n",
    "        # Initialize model weights\n",
    "        \n",
    "        # Arguments\n",
    "        # D_in : Input dimension of the model\n",
    "        # D_out : Output dimension of the model\n",
    "        \n",
    "        # Hint\n",
    "        # torch.nn.Softmax(dim)\n",
    "        # Reference : https://pytorch.org/docs/stable/nn.html?highlight=torch.nn.softmax#torch.nn.Softmax\n",
    "        \n",
    "        self.linear = torch.nn.Linear(in_features=D_in, out_features=D_out)\n",
    "        self.softmax = torch.nn.Softmax(dim=1)\n",
    "    \n",
    "    def forward(self, x):\n",
    "        # Calculate the model outputs\n",
    "        \n",
    "        # Arguments\n",
    "        # x : Input of the model (vectorized data)\n",
    "        \n",
    "        output = self.linear(x)\n",
    "        output = self.softmax(output)\n",
    "        \n",
    "        return output\n",
    "    \n",
    "# Define the loss using one-hot vector\n",
    "class Cross_Entropy_Loss(torch.nn.Module):\n",
    "    def __init__(self):\n",
    "        super(Cross_Entropy_Loss, self).__init__()\n",
    "    def forward(self, y_pred, y):\n",
    "        # Loss for each example\n",
    "        loss = torch.sum(-1 * y * torch.log(y_pred), axis=1)\n",
    "\n",
    "        # Mean the loss of each example\n",
    "        loss = torch.mean(loss)\n",
    "\n",
    "        return loss\n",
    "    \n",
    "# Make the model\n",
    "model = LogisticModel(D_in, D_out).to(dtype=dtype, device=device)\n",
    "\n",
    "# Set the loss function as Cross_Entropy_Loss\n",
    "criterion = Cross_Entropy_Loss()\n",
    "\n",
    "# Set the optimizer\n",
    "optimizer = torch.optim.SGD(model.parameters(), lr=learning_rate)"
   ]
  },
  {
   "cell_type": "markdown",
   "metadata": {},
   "source": [
    "# Train the model"
   ]
  },
  {
   "cell_type": "code",
   "execution_count": 16,
   "metadata": {},
   "outputs": [
    {
     "name": "stdout",
     "output_type": "stream",
     "text": [
      "Training...\n",
      "epoch  10 \t loss :  1.0319121577127495\n",
      "epoch  20 \t loss :  0.7511135198759621\n",
      "epoch  30 \t loss :  0.6390395732304093\n",
      "epoch  40 \t loss :  0.5766996866681102\n",
      "epoch  50 \t loss :  0.5361313040701295\n",
      "epoch  60 \t loss :  0.5071995140261247\n",
      "epoch  70 \t loss :  0.4852900673496074\n",
      "epoch  80 \t loss :  0.46798092037001715\n",
      "epoch  90 \t loss :  0.45386962606932824\n",
      "epoch  100 \t loss :  0.4420834015073565\n",
      "Finish training\n"
     ]
    }
   ],
   "source": [
    "losses = []\n",
    "\n",
    "print(\"Training...\")\n",
    "\n",
    "for epoch in range(training_epochs):\n",
    "    # Initialize the optimizer\n",
    "    optimizer.zero_grad()\n",
    "    \n",
    "    # Compute Forward process and calculate the loss\n",
    "    output = model(X_train)\n",
    "    loss = criterion(output, y_train_one_hot)\n",
    "\n",
    "    # Record the loss\n",
    "    losses.append(loss.item())\n",
    "    \n",
    "    # Display the loss\n",
    "    if (epoch + 1) % display_step == 0:\n",
    "        print(\"epoch \", epoch + 1, \"\\t loss : \", losses[-1])\n",
    "    \n",
    "    # Compute backward process and update weights\n",
    "    loss.backward()\n",
    "    optimizer.step()\n",
    "    \n",
    "print(\"Finish training\")"
   ]
  },
  {
   "cell_type": "markdown",
   "metadata": {},
   "source": [
    "# Plot the loss"
   ]
  },
  {
   "cell_type": "code",
   "execution_count": 17,
   "metadata": {
    "scrolled": true
   },
   "outputs": [
    {
     "data": {
      "image/png": "[encoded data removed]",
      "text/plain": [
       "<Figure size 432x288 with 1 Axes>"
      ]
     },
     "metadata": {
      "needs_background": "light"
     },
     "output_type": "display_data"
    }
   ],
   "source": [
    "plt.figure()\n",
    "plt.plot(losses, label=\"loss\")\n",
    "plt.title(\"Loss\")\n",
    "plt.legend()\n",
    "plt.show()"
   ]
  },
  {
   "cell_type": "markdown",
   "metadata": {},
   "source": [
    "# Check the accuracy"
   ]
  },
  {
   "cell_type": "code",
   "execution_count": null,
   "metadata": {},
   "outputs": [],
   "source": [
    "with torch.no_grad():\n",
    "    test_corrects = 0\n",
    "    test_total = 0\n",
    "    \n",
    "    # Compute the forward process\n",
    "    \n",
    "    # Get predicted labels from outputs\n",
    "    # Hint : torch.max or torch.argmax\n",
    "    \n",
    "    # Check the number of correct labels and total label\n",
    "    \n",
    "    # Show the accuracy\n",
    "    print(\"Test accuracy : \", (test_corrects / test_total) * 100, \"%\")"
   ]
  },
  {
   "cell_type": "markdown",
   "metadata": {},
   "source": [
    "# Confusion matrix"
   ]
  },
  {
   "cell_type": "code",
   "execution_count": null,
   "metadata": {},
   "outputs": [],
   "source": [
    "# confusion_matrix's input is numpy object!\n",
    "from sklearn.metrics import confusion_matrix\n",
    "\n",
    "with torch.no_grad():\n",
    "    # Calculate the outputs and extract labels from that\n",
    "    # Fill the code\n",
    "    \n",
    "    print(\"Predicted label results\")\n",
    "    print(y_test_pred)\n",
    "    print(\"Target label results\")\n",
    "    print(y_test)\n",
    "    \n",
    "    print(\"Confusion matrix result\")\n",
    "    print(confusion_matrix(y_test.cpu().numpy(), y_test_pred.cpu().numpy()))"
   ]
  },
  {
   "cell_type": "markdown",
   "metadata": {},
   "source": [
    "# Prediction examples"
   ]
  },
  {
   "cell_type": "code",
   "execution_count": null,
   "metadata": {},
   "outputs": [],
   "source": [
    "# Show 10 prediction examples\n",
    "with torch.no_grad():\n",
    "    for i in range(10):\n",
    "        # Make random index of test data\n",
    "        \n",
    "        # Make a prediction\n",
    "        \n",
    "        # Show a image\n",
    "        _, (ax1, ax2) = plt.subplots(1, 2)\n",
    "        \n",
    "        # On left side, we show the random image\n",
    "        \n",
    "        # On right side, we show the model's probability prediction\n",
    "        \n",
    "        plt.show()\n",
    "        \n",
    "        # Show the predicted label and true label\n",
    "        print(\"Predicted label : \", predictions.item())\n",
    "        print(\"True label : \", y_test[idx].item())"
   ]
  },
  {
   "cell_type": "markdown",
   "metadata": {},
   "source": [
    "# Simpler implementation (with torch.nn.CrossEntropyLoss())"
   ]
  },
  {
   "cell_type": "code",
   "execution_count": null,
   "metadata": {},
   "outputs": [],
   "source": [
    "# Construct the model with torch.nn.Sequential\n",
    "\n",
    "# Set the loss function with torch.nn.CrossEntropyLoss((log)Softmax + NLLLoss)\n",
    "# Reference : https://pytorch.org/docs/stable/nn.html?highlight=torch.nn.crossentropyloss#torch.nn.CrossEntropyLoss\n",
    "\n",
    "# Set optimizer to gradient descent optimizer\n",
    "\n",
    "\n",
    "losses = []\n",
    "\n",
    "print(\"Training...\")\n",
    "\n",
    "for epoch in range(training_epochs):\n",
    "    # Initialize the optimizer\n",
    "    \n",
    "    # Compute Forward process and calculate the loss\n",
    "\n",
    "    # Record the loss\n",
    "    \n",
    "    # Display the loss\n",
    "    \n",
    "    # Compute backward process and update weights\n",
    "    \n",
    "print(\"Finish training\")"
   ]
  },
  {
   "cell_type": "markdown",
   "metadata": {},
   "source": [
    "# Plot the loss (Review)"
   ]
  },
  {
   "cell_type": "code",
   "execution_count": null,
   "metadata": {},
   "outputs": [],
   "source": [
    "plt.figure()\n",
    "plt.plot(losses, label=\"loss\")\n",
    "plt.title(\"Loss\")\n",
    "plt.legend()\n",
    "plt.show()"
   ]
  },
  {
   "cell_type": "code",
   "execution_count": null,
   "metadata": {},
   "outputs": [],
   "source": [
    "# Check the accuracy\n"
   ]
  },
  {
   "cell_type": "code",
   "execution_count": null,
   "metadata": {},
   "outputs": [],
   "source": []
  }
 ],
 "metadata": {
  "kernelspec": {
   "display_name": "Python 3",
   "language": "python",
   "name": "python3"
  },
  "language_info": {
   "codemirror_mode": {
    "name": "ipython",
    "version": 3
   },
   "file_extension": ".py",
   "mimetype": "text/x-python",
   "name": "python",
   "nbconvert_exporter": "python",
   "pygments_lexer": "ipython3",
   "version": "3.7.6"
  }
 },
 "nbformat": 4,
 "nbformat_minor": 2
}
